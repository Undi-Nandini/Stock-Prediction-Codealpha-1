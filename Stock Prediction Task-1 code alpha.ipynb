{
 "cells": [
  {
   "cell_type": "code",
   "execution_count": 42,
   "id": "3319c97f",
   "metadata": {},
   "outputs": [],
   "source": [
    "import numpy as np\n",
    "import pandas as pd\n",
    "import matplotlib.pyplot as plt\n",
    "import seaborn as sns\n",
    "from sklearn.preprocessing import MinMaxScaler\n",
    "from sklearn.model_selection import train_test_split\n",
    "from tensorflow.keras.models import Sequential\n",
    "from tensorflow.keras.layers import LSTM, Dense"
   ]
  },
  {
   "cell_type": "code",
   "execution_count": 43,
   "id": "787d8a77",
   "metadata": {},
   "outputs": [],
   "source": [
    "# Load the dataset\n",
    "df = pd.read_csv(r\"C:\\Users\\nandi\\Downloads\\google.csv\")"
   ]
  },
  {
   "cell_type": "code",
   "execution_count": 44,
   "id": "486a5db1",
   "metadata": {},
   "outputs": [
    {
     "data": {
      "text/html": [
       "<div>\n",
       "<style scoped>\n",
       "    .dataframe tbody tr th:only-of-type {\n",
       "        vertical-align: middle;\n",
       "    }\n",
       "\n",
       "    .dataframe tbody tr th {\n",
       "        vertical-align: top;\n",
       "    }\n",
       "\n",
       "    .dataframe thead th {\n",
       "        text-align: right;\n",
       "    }\n",
       "</style>\n",
       "<table border=\"1\" class=\"dataframe\">\n",
       "  <thead>\n",
       "    <tr style=\"text-align: right;\">\n",
       "      <th></th>\n",
       "      <th>Date</th>\n",
       "      <th>High</th>\n",
       "      <th>Low</th>\n",
       "      <th>Open</th>\n",
       "      <th>Close</th>\n",
       "      <th>Volume</th>\n",
       "      <th>Adj Close</th>\n",
       "    </tr>\n",
       "  </thead>\n",
       "  <tbody>\n",
       "    <tr>\n",
       "      <th>0</th>\n",
       "      <td>2004-08-19</td>\n",
       "      <td>51.835709</td>\n",
       "      <td>47.800831</td>\n",
       "      <td>49.813290</td>\n",
       "      <td>49.982655</td>\n",
       "      <td>44871361.0</td>\n",
       "      <td>49.982655</td>\n",
       "    </tr>\n",
       "    <tr>\n",
       "      <th>1</th>\n",
       "      <td>2004-08-20</td>\n",
       "      <td>54.336334</td>\n",
       "      <td>50.062355</td>\n",
       "      <td>50.316402</td>\n",
       "      <td>53.952770</td>\n",
       "      <td>22942874.0</td>\n",
       "      <td>53.952770</td>\n",
       "    </tr>\n",
       "    <tr>\n",
       "      <th>2</th>\n",
       "      <td>2004-08-23</td>\n",
       "      <td>56.528118</td>\n",
       "      <td>54.321388</td>\n",
       "      <td>55.168217</td>\n",
       "      <td>54.495735</td>\n",
       "      <td>18342897.0</td>\n",
       "      <td>54.495735</td>\n",
       "    </tr>\n",
       "    <tr>\n",
       "      <th>3</th>\n",
       "      <td>2004-08-24</td>\n",
       "      <td>55.591629</td>\n",
       "      <td>51.591621</td>\n",
       "      <td>55.412300</td>\n",
       "      <td>52.239197</td>\n",
       "      <td>15319808.0</td>\n",
       "      <td>52.239197</td>\n",
       "    </tr>\n",
       "    <tr>\n",
       "      <th>4</th>\n",
       "      <td>2004-08-25</td>\n",
       "      <td>53.798351</td>\n",
       "      <td>51.746044</td>\n",
       "      <td>52.284027</td>\n",
       "      <td>52.802086</td>\n",
       "      <td>9232276.0</td>\n",
       "      <td>52.802086</td>\n",
       "    </tr>\n",
       "  </tbody>\n",
       "</table>\n",
       "</div>"
      ],
      "text/plain": [
       "         Date       High        Low       Open      Close      Volume  \\\n",
       "0  2004-08-19  51.835709  47.800831  49.813290  49.982655  44871361.0   \n",
       "1  2004-08-20  54.336334  50.062355  50.316402  53.952770  22942874.0   \n",
       "2  2004-08-23  56.528118  54.321388  55.168217  54.495735  18342897.0   \n",
       "3  2004-08-24  55.591629  51.591621  55.412300  52.239197  15319808.0   \n",
       "4  2004-08-25  53.798351  51.746044  52.284027  52.802086   9232276.0   \n",
       "\n",
       "   Adj Close  \n",
       "0  49.982655  \n",
       "1  53.952770  \n",
       "2  54.495735  \n",
       "3  52.239197  \n",
       "4  52.802086  "
      ]
     },
     "execution_count": 44,
     "metadata": {},
     "output_type": "execute_result"
    }
   ],
   "source": [
    "df.head()"
   ]
  },
  {
   "cell_type": "code",
   "execution_count": 45,
   "id": "41c049b6",
   "metadata": {},
   "outputs": [
    {
     "data": {
      "text/html": [
       "<div>\n",
       "<style scoped>\n",
       "    .dataframe tbody tr th:only-of-type {\n",
       "        vertical-align: middle;\n",
       "    }\n",
       "\n",
       "    .dataframe tbody tr th {\n",
       "        vertical-align: top;\n",
       "    }\n",
       "\n",
       "    .dataframe thead th {\n",
       "        text-align: right;\n",
       "    }\n",
       "</style>\n",
       "<table border=\"1\" class=\"dataframe\">\n",
       "  <thead>\n",
       "    <tr style=\"text-align: right;\">\n",
       "      <th></th>\n",
       "      <th>High</th>\n",
       "      <th>Low</th>\n",
       "      <th>Open</th>\n",
       "      <th>Close</th>\n",
       "      <th>Volume</th>\n",
       "      <th>Adj Close</th>\n",
       "    </tr>\n",
       "  </thead>\n",
       "  <tbody>\n",
       "    <tr>\n",
       "      <th>count</th>\n",
       "      <td>4317.000000</td>\n",
       "      <td>4317.000000</td>\n",
       "      <td>4317.000000</td>\n",
       "      <td>4317.000000</td>\n",
       "      <td>4.317000e+03</td>\n",
       "      <td>4317.000000</td>\n",
       "    </tr>\n",
       "    <tr>\n",
       "      <th>mean</th>\n",
       "      <td>639.682936</td>\n",
       "      <td>627.615621</td>\n",
       "      <td>633.603748</td>\n",
       "      <td>633.852357</td>\n",
       "      <td>6.523837e+06</td>\n",
       "      <td>633.852357</td>\n",
       "    </tr>\n",
       "    <tr>\n",
       "      <th>std</th>\n",
       "      <td>561.783142</td>\n",
       "      <td>552.069438</td>\n",
       "      <td>556.527532</td>\n",
       "      <td>557.255541</td>\n",
       "      <td>7.830526e+06</td>\n",
       "      <td>557.255541</td>\n",
       "    </tr>\n",
       "    <tr>\n",
       "      <th>min</th>\n",
       "      <td>50.680038</td>\n",
       "      <td>47.800831</td>\n",
       "      <td>49.409801</td>\n",
       "      <td>49.818268</td>\n",
       "      <td>7.922000e+03</td>\n",
       "      <td>49.818268</td>\n",
       "    </tr>\n",
       "    <tr>\n",
       "      <th>25%</th>\n",
       "      <td>247.507278</td>\n",
       "      <td>241.469910</td>\n",
       "      <td>244.832306</td>\n",
       "      <td>244.334183</td>\n",
       "      <td>1.593563e+06</td>\n",
       "      <td>244.334183</td>\n",
       "    </tr>\n",
       "    <tr>\n",
       "      <th>50%</th>\n",
       "      <td>401.988251</td>\n",
       "      <td>395.168823</td>\n",
       "      <td>399.004425</td>\n",
       "      <td>398.561096</td>\n",
       "      <td>3.851583e+06</td>\n",
       "      <td>398.561096</td>\n",
       "    </tr>\n",
       "    <tr>\n",
       "      <th>75%</th>\n",
       "      <td>933.440002</td>\n",
       "      <td>923.030029</td>\n",
       "      <td>929.059998</td>\n",
       "      <td>928.799988</td>\n",
       "      <td>8.268878e+06</td>\n",
       "      <td>928.799988</td>\n",
       "    </tr>\n",
       "    <tr>\n",
       "      <th>max</th>\n",
       "      <td>2936.409912</td>\n",
       "      <td>2912.290039</td>\n",
       "      <td>2918.989990</td>\n",
       "      <td>2916.840088</td>\n",
       "      <td>8.254163e+07</td>\n",
       "      <td>2916.840088</td>\n",
       "    </tr>\n",
       "  </tbody>\n",
       "</table>\n",
       "</div>"
      ],
      "text/plain": [
       "              High          Low         Open        Close        Volume  \\\n",
       "count  4317.000000  4317.000000  4317.000000  4317.000000  4.317000e+03   \n",
       "mean    639.682936   627.615621   633.603748   633.852357  6.523837e+06   \n",
       "std     561.783142   552.069438   556.527532   557.255541  7.830526e+06   \n",
       "min      50.680038    47.800831    49.409801    49.818268  7.922000e+03   \n",
       "25%     247.507278   241.469910   244.832306   244.334183  1.593563e+06   \n",
       "50%     401.988251   395.168823   399.004425   398.561096  3.851583e+06   \n",
       "75%     933.440002   923.030029   929.059998   928.799988  8.268878e+06   \n",
       "max    2936.409912  2912.290039  2918.989990  2916.840088  8.254163e+07   \n",
       "\n",
       "         Adj Close  \n",
       "count  4317.000000  \n",
       "mean    633.852357  \n",
       "std     557.255541  \n",
       "min      49.818268  \n",
       "25%     244.334183  \n",
       "50%     398.561096  \n",
       "75%     928.799988  \n",
       "max    2916.840088  "
      ]
     },
     "execution_count": 45,
     "metadata": {},
     "output_type": "execute_result"
    }
   ],
   "source": [
    "df.describe()"
   ]
  },
  {
   "cell_type": "code",
   "execution_count": 46,
   "id": "b47c7428",
   "metadata": {},
   "outputs": [
    {
     "data": {
      "text/plain": [
       "array([[<Axes: title={'center': 'High'}>,\n",
       "        <Axes: title={'center': 'Low'}>],\n",
       "       [<Axes: title={'center': 'Open'}>,\n",
       "        <Axes: title={'center': 'Close'}>],\n",
       "       [<Axes: title={'center': 'Volume'}>,\n",
       "        <Axes: title={'center': 'Adj Close'}>]], dtype=object)"
      ]
     },
     "execution_count": 46,
     "metadata": {},
     "output_type": "execute_result"
    },
    {
     "data": {
      "image/png": "[encoded data removed]",
      "text/plain": [
       "<Figure size 640x480 with 6 Axes>"
      ]
     },
     "metadata": {},
     "output_type": "display_data"
    }
   ],
   "source": [
    "df.hist()"
   ]
  },
  {
   "cell_type": "code",
   "execution_count": 47,
   "id": "4b0c374d",
   "metadata": {},
   "outputs": [
    {
     "data": {
      "text/plain": [
       "(4317, 7)"
      ]
     },
     "execution_count": 47,
     "metadata": {},
     "output_type": "execute_result"
    }
   ],
   "source": [
    "df.shape"
   ]
  },
  {
   "cell_type": "code",
   "execution_count": 48,
   "id": "2e2a532a",
   "metadata": {},
   "outputs": [
    {
     "data": {
      "text/plain": [
       "Date         0\n",
       "High         0\n",
       "Low          0\n",
       "Open         0\n",
       "Close        0\n",
       "Volume       0\n",
       "Adj Close    0\n",
       "dtype: int64"
      ]
     },
     "execution_count": 48,
     "metadata": {},
     "output_type": "execute_result"
    }
   ],
   "source": [
    "df.isnull().sum()"
   ]
  },
  {
   "cell_type": "code",
   "execution_count": 49,
   "id": "c4e25520",
   "metadata": {},
   "outputs": [
    {
     "data": {
      "text/html": [
       "<div>\n",
       "<style scoped>\n",
       "    .dataframe tbody tr th:only-of-type {\n",
       "        vertical-align: middle;\n",
       "    }\n",
       "\n",
       "    .dataframe tbody tr th {\n",
       "        vertical-align: top;\n",
       "    }\n",
       "\n",
       "    .dataframe thead th {\n",
       "        text-align: right;\n",
       "    }\n",
       "</style>\n",
       "<table border=\"1\" class=\"dataframe\">\n",
       "  <thead>\n",
       "    <tr style=\"text-align: right;\">\n",
       "      <th></th>\n",
       "      <th>Date</th>\n",
       "      <th>High</th>\n",
       "      <th>Low</th>\n",
       "      <th>Open</th>\n",
       "      <th>Close</th>\n",
       "      <th>Volume</th>\n",
       "      <th>Adj Close</th>\n",
       "    </tr>\n",
       "  </thead>\n",
       "  <tbody>\n",
       "    <tr>\n",
       "      <th>0</th>\n",
       "      <td>2004-08-19</td>\n",
       "      <td>51.835709</td>\n",
       "      <td>47.800831</td>\n",
       "      <td>49.813290</td>\n",
       "      <td>49.982655</td>\n",
       "      <td>44871361.0</td>\n",
       "      <td>49.982655</td>\n",
       "    </tr>\n",
       "    <tr>\n",
       "      <th>1</th>\n",
       "      <td>2004-08-20</td>\n",
       "      <td>54.336334</td>\n",
       "      <td>50.062355</td>\n",
       "      <td>50.316402</td>\n",
       "      <td>53.952770</td>\n",
       "      <td>22942874.0</td>\n",
       "      <td>53.952770</td>\n",
       "    </tr>\n",
       "    <tr>\n",
       "      <th>2</th>\n",
       "      <td>2004-08-23</td>\n",
       "      <td>56.528118</td>\n",
       "      <td>54.321388</td>\n",
       "      <td>55.168217</td>\n",
       "      <td>54.495735</td>\n",
       "      <td>18342897.0</td>\n",
       "      <td>54.495735</td>\n",
       "    </tr>\n",
       "    <tr>\n",
       "      <th>3</th>\n",
       "      <td>2004-08-24</td>\n",
       "      <td>55.591629</td>\n",
       "      <td>51.591621</td>\n",
       "      <td>55.412300</td>\n",
       "      <td>52.239197</td>\n",
       "      <td>15319808.0</td>\n",
       "      <td>52.239197</td>\n",
       "    </tr>\n",
       "    <tr>\n",
       "      <th>4</th>\n",
       "      <td>2004-08-25</td>\n",
       "      <td>53.798351</td>\n",
       "      <td>51.746044</td>\n",
       "      <td>52.284027</td>\n",
       "      <td>52.802086</td>\n",
       "      <td>9232276.0</td>\n",
       "      <td>52.802086</td>\n",
       "    </tr>\n",
       "  </tbody>\n",
       "</table>\n",
       "</div>"
      ],
      "text/plain": [
       "         Date       High        Low       Open      Close      Volume  \\\n",
       "0  2004-08-19  51.835709  47.800831  49.813290  49.982655  44871361.0   \n",
       "1  2004-08-20  54.336334  50.062355  50.316402  53.952770  22942874.0   \n",
       "2  2004-08-23  56.528118  54.321388  55.168217  54.495735  18342897.0   \n",
       "3  2004-08-24  55.591629  51.591621  55.412300  52.239197  15319808.0   \n",
       "4  2004-08-25  53.798351  51.746044  52.284027  52.802086   9232276.0   \n",
       "\n",
       "   Adj Close  \n",
       "0  49.982655  \n",
       "1  53.952770  \n",
       "2  54.495735  \n",
       "3  52.239197  \n",
       "4  52.802086  "
      ]
     },
     "execution_count": 49,
     "metadata": {},
     "output_type": "execute_result"
    }
   ],
   "source": [
    "srt=df.sort_values(by='Date')\n",
    "srt.head()"
   ]
  },
  {
   "cell_type": "code",
   "execution_count": 50,
   "id": "ee7ab9cb",
   "metadata": {},
   "outputs": [],
   "source": [
    "srt.reset_index(inplace=True)"
   ]
  },
  {
   "cell_type": "code",
   "execution_count": 51,
   "id": "60ee6f6c",
   "metadata": {},
   "outputs": [
    {
     "data": {
      "text/plain": [
       "[<matplotlib.lines.Line2D at 0x19db6b97f90>]"
      ]
     },
     "execution_count": 51,
     "metadata": {},
     "output_type": "execute_result"
    },
    {
     "data": {
      "image/png": "[encoded data removed]",
      "text/plain": [
       "<Figure size 640x480 with 1 Axes>"
      ]
     },
     "metadata": {},
     "output_type": "display_data"
    }
   ],
   "source": [
    "plt.plot(srt['Date'],srt['Close'])"
   ]
  },
  {
   "cell_type": "code",
   "execution_count": 52,
   "id": "1c775fbe",
   "metadata": {},
   "outputs": [],
   "source": [
    "data = df['Close'].values.reshape(-1, 1)"
   ]
  },
  {
   "cell_type": "code",
   "execution_count": 53,
   "id": "c69243ac",
   "metadata": {},
   "outputs": [],
   "source": [
    "# Normalize the data\n",
    "scaler = MinMaxScaler()\n",
    "data_normalized = scaler.fit_transform(data)"
   ]
  },
  {
   "cell_type": "code",
   "execution_count": 54,
   "id": "1b24bef3",
   "metadata": {},
   "outputs": [],
   "source": [
    " #Create sequences for LSTM\n",
    "sequence_length = 50\n",
    "X, y = [], []\n",
    "for i in range(len(data_normalized) - sequence_length):\n",
    "    X.append(data_normalized[i:i+sequence_length, 0])\n",
    "    y.append(data_normalized[i+sequence_length, 0])\n",
    "\n",
    "X, y = np.array(X), np.array(y)\n"
   ]
  },
  {
   "cell_type": "code",
   "execution_count": 55,
   "id": "6747c528",
   "metadata": {},
   "outputs": [],
   "source": [
    "X = np.reshape(X, (X.shape[0], X.shape[1], 1))"
   ]
  },
  {
   "cell_type": "code",
   "execution_count": 56,
   "id": "14a0db32",
   "metadata": {},
   "outputs": [],
   "source": [
    "X_train, X_test, y_train, y_test = train_test_split(X, y, test_size=0.2, random_state=42)"
   ]
  },
  {
   "cell_type": "code",
   "execution_count": 57,
   "id": "7a071084",
   "metadata": {},
   "outputs": [],
   "source": [
    "model = Sequential()\n",
    "\n",
    "model.add(LSTM(units=50, return_sequences=True, input_shape=(X.shape[1], 1)))\n",
    "model.add(LSTM(units=50, return_sequences=False))\n",
    "model.add(Dense(units=25))\n",
    "model.add(Dense(units=1))\n",
    "\n",
    "model.compile(optimizer='adam', loss='mean_squared_error')\n"
   ]
  },
  {
   "cell_type": "code",
   "execution_count": 58,
   "id": "32591324",
   "metadata": {},
   "outputs": [
    {
     "name": "stdout",
     "output_type": "stream",
     "text": [
      "Model: \"sequential_1\"\n",
      "_________________________________________________________________\n",
      " Layer (type)                Output Shape              Param #   \n",
      "=================================================================\n",
      " lstm_2 (LSTM)               (None, 50, 50)            10400     \n",
      "                                                                 \n",
      " lstm_3 (LSTM)               (None, 50)                20200     \n",
      "                                                                 \n",
      " dense_2 (Dense)             (None, 25)                1275      \n",
      "                                                                 \n",
      " dense_3 (Dense)             (None, 1)                 26        \n",
      "                                                                 \n",
      "=================================================================\n",
      "Total params: 31901 (124.61 KB)\n",
      "Trainable params: 31901 (124.61 KB)\n",
      "Non-trainable params: 0 (0.00 Byte)\n",
      "_________________________________________________________________\n"
     ]
    }
   ],
   "source": [
    "model.summary()"
   ]
  },
  {
   "cell_type": "code",
   "execution_count": 59,
   "id": "36e60a82",
   "metadata": {},
   "outputs": [
    {
     "name": "stdout",
     "output_type": "stream",
     "text": [
      "Epoch 1/10\n",
      "107/107 [==============================] - 8s 24ms/step - loss: 0.0039\n",
      "Epoch 2/10\n",
      "107/107 [==============================] - 3s 24ms/step - loss: 1.0350e-04\n",
      "Epoch 3/10\n",
      "107/107 [==============================] - 3s 25ms/step - loss: 1.0742e-04\n",
      "Epoch 4/10\n",
      "107/107 [==============================] - 3s 25ms/step - loss: 9.8064e-05\n",
      "Epoch 5/10\n",
      "107/107 [==============================] - 3s 24ms/step - loss: 9.8424e-05\n",
      "Epoch 6/10\n",
      "107/107 [==============================] - 2s 22ms/step - loss: 9.3044e-05\n",
      "Epoch 7/10\n",
      "107/107 [==============================] - 2s 23ms/step - loss: 9.5460e-05\n",
      "Epoch 8/10\n",
      "107/107 [==============================] - 2s 22ms/step - loss: 9.2851e-05\n",
      "Epoch 9/10\n",
      "107/107 [==============================] - 3s 24ms/step - loss: 9.0007e-05\n",
      "Epoch 10/10\n",
      "107/107 [==============================] - 3s 25ms/step - loss: 9.7624e-05\n"
     ]
    },
    {
     "data": {
      "text/plain": [
       "<keras.src.callbacks.History at 0x19dc71a8250>"
      ]
     },
     "execution_count": 59,
     "metadata": {},
     "output_type": "execute_result"
    }
   ],
   "source": [
    "model.fit(X_train, y_train, epochs=10, batch_size=32)"
   ]
  },
  {
   "cell_type": "code",
   "execution_count": 60,
   "id": "2a086453",
   "metadata": {},
   "outputs": [
    {
     "name": "stdout",
     "output_type": "stream",
     "text": [
      "Training Loss: 7.260862912517041e-05\n",
      "Testing Loss: 7.35086650820449e-05\n"
     ]
    }
   ],
   "source": [
    "train_loss = model.evaluate(X_train, y_train, verbose=0)\n",
    "test_loss = model.evaluate(X_test, y_test, verbose=0)\n",
    "\n",
    "print(f'Training Loss: {train_loss}')\n",
    "print(f'Testing Loss: {test_loss}')"
   ]
  },
  {
   "cell_type": "code",
   "execution_count": 72,
   "id": "6b831c61",
   "metadata": {},
   "outputs": [],
   "source": [
    "# Train-test split\n",
    "train_size = int(len(data) * 0.8)\n",
    "train, valid = df[0:train_size], df[train_size:]"
   ]
  },
  {
   "cell_type": "code",
   "execution_count": 73,
   "id": "d8aa9f4a",
   "metadata": {},
   "outputs": [
    {
     "name": "stdout",
     "output_type": "stream",
     "text": [
      "27/27 [==============================] - 0s 8ms/step\n"
     ]
    }
   ],
   "source": [
    "# Make predictions\n",
    "predictions = model.predict(X_test)\n",
    "predictions = scaler.inverse_transform(predictions)"
   ]
  },
  {
   "cell_type": "code",
   "execution_count": 74,
   "id": "ac2abbea",
   "metadata": {},
   "outputs": [],
   "source": [
    "valid_df = pd.DataFrame(valid['Close'].values, columns=['Close'], index=valid.index)"
   ]
  },
  {
   "cell_type": "code",
   "execution_count": 75,
   "id": "14f85e35",
   "metadata": {},
   "outputs": [],
   "source": [
    "valid_df = valid_df.head(len(predictions))"
   ]
  },
  {
   "cell_type": "code",
   "execution_count": 76,
   "id": "aea78e9d",
   "metadata": {},
   "outputs": [],
   "source": [
    "# Create a new DataFrame for predictions with the correct indices\n",
    "predictions_df = pd.DataFrame(predictions, index=valid_df.index, columns=['Predictions'])"
   ]
  },
  {
   "cell_type": "code",
   "execution_count": 77,
   "id": "8ec96c24",
   "metadata": {},
   "outputs": [],
   "source": [
    "# Concatenate the 'valid_reset' DataFrame with the predictions DataFrame\n",
    "result_df = pd.concat([valid_df, predictions_df], axis=1)"
   ]
  },
  {
   "cell_type": "code",
   "execution_count": 78,
   "id": "c4530f2e",
   "metadata": {},
   "outputs": [
    {
     "data": {
      "image/png": "[encoded data removed]",
      "text/plain": [
       "<Figure size 1600x800 with 1 Axes>"
      ]
     },
     "metadata": {},
     "output_type": "display_data"
    }
   ],
   "source": [
    "# Visualize the results\n",
    "plt.figure(figsize=(16, 8))\n",
    "plt.title('Model')\n",
    "plt.xlabel('Date')\n",
    "plt.ylabel('Close Price USD ($)')\n",
    "plt.plot(train['Close'])\n",
    "plt.plot(result_df[['Close', 'Predictions']])\n",
    "plt.legend(['Train', 'Val', 'Predictions'], loc='lower right')\n",
    "plt.show()"
   ]
  },
  {
   "cell_type": "code",
   "execution_count": null,
   "id": "f00743eb",
   "metadata": {},
   "outputs": [],
   "source": []
  }
 ],
 "metadata": {
  "kernelspec": {
   "display_name": "Python 3 (ipykernel)",
   "language": "python",
   "name": "python3"
  },
  "language_info": {
   "codemirror_mode": {
    "name": "ipython",
    "version": 3
   },
   "file_extension": ".py",
   "mimetype": "text/x-python",
   "name": "python",
   "nbconvert_exporter": "python",
   "pygments_lexer": "ipython3",
   "version": "3.11.5"
  }
 },
 "nbformat": 4,
 "nbformat_minor": 5
}
